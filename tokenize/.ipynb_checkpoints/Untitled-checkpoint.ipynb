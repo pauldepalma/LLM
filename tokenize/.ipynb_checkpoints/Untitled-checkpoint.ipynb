{
 "cells": [
  {
   "cell_type": "code",
   "execution_count": 1,
   "id": "03f1bdf0-fa0b-4bc2-a085-0490fdbd277f",
   "metadata": {},
   "outputs": [],
   "source": [
    "#Chapter 2, Tokenization,\n",
    "import urllib.request\n",
    "import re"
   ]
  },
  {
   "cell_type": "code",
   "execution_count": 2,
   "id": "3db0a85c-dae4-446c-8a18-fde235be685b",
   "metadata": {},
   "outputs": [],
   "source": [
    "def read_data():\n",
    "    url = (\"https://raw.githubusercontent.com/rasbt/LLMs-from-scratch/main/ch02/01_main-chapter-code/the-verdict.txt\")\n",
    "\n",
    "    file_path = \"the-verdict.text\"\n",
    "    urllib.request.urlretrieve(url, file_path)\n",
    "\n",
    "    with open(file_path, \"r\", encoding=\"utf=8\") as f:\n",
    "        raw_text = f.read()\n",
    "    #print(\"Total Characters:\", len(raw_text))\n",
    "    #print(raw_text[:99])\n",
    "    return raw_text\n",
    "    \n",
    "        \n",
    "    "
   ]
  },
  {
   "cell_type": "code",
   "execution_count": 3,
   "id": "ae7afd7b-9a2b-4201-9f52-4279d4fa735a",
   "metadata": {},
   "outputs": [],
   "source": [
    "def tokenize(raw_text):\n",
    "    #Split when there is punctuation, white space, and other indicators, but return the match (of punctuation and white space)\n",
    "    result = re.split(r'([,.:;?_!()\"\\']|--|\\s)', raw_text)\n",
    "    #Now remove the additional white space\n",
    "    #first strip removes whitespace for each string in the list; \n",
    "    #This could result in \"   \" becoming \"\"; ir item.strip() returns \"\", it is treate s false, so is passed over\n",
    "    #Result is that all white space is excluded, punctation and indicated special characters are retained\n",
    "    result = [item.strip() for item in result if item.strip()] #first strip removes whitespace for each string in list; \n",
    "    return result"
   ]
  },
  {
   "cell_type": "code",
   "execution_count": 4,
   "id": "dca7388a-6b54-4191-a3fd-34e8c7e7e30b",
   "metadata": {},
   "outputs": [
    {
     "name": "stdout",
     "output_type": "stream",
     "text": [
      "4690\n",
      "['I', 'HAD', 'always', 'thought', 'Jack', 'Gisburn', 'rather', 'a', 'cheap', 'genius', '--', 'though', 'a', 'good', 'fellow', 'enough', '--', 'so', 'it', 'was', 'no', 'great', 'surprise', 'to', 'me', 'to', 'hear', 'that', ',', 'in']\n"
     ]
    }
   ],
   "source": [
    "raw_text= read_data()\n",
    "tokenized = tokenize(raw_text)\n",
    "print(len(tokenized))\n",
    "print(tokenized[:30])\n",
    "\n"
   ]
  },
  {
   "cell_type": "code",
   "execution_count": null,
   "id": "f1b0252e-3815-4530-af6f-473c49a21a2e",
   "metadata": {},
   "outputs": [],
   "source": []
  },
  {
   "cell_type": "code",
   "execution_count": null,
   "id": "55bb4693-4975-4ada-bfbb-dbb4d169237f",
   "metadata": {},
   "outputs": [],
   "source": []
  }
 ],
 "metadata": {
  "kernelspec": {
   "display_name": "Python [conda env:base] *",
   "language": "python",
   "name": "conda-base-py"
  },
  "language_info": {
   "codemirror_mode": {
    "name": "ipython",
    "version": 3
   },
   "file_extension": ".py",
   "mimetype": "text/x-python",
   "name": "python",
   "nbconvert_exporter": "python",
   "pygments_lexer": "ipython3",
   "version": "3.12.7"
  }
 },
 "nbformat": 4,
 "nbformat_minor": 5
}
