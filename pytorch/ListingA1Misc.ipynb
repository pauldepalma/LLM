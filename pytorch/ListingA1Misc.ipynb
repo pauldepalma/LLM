{
 "cells": [
  {
   "cell_type": "code",
   "execution_count": 3,
   "id": "a74644ce-1430-494f-bd1c-3f5034c385cd",
   "metadata": {},
   "outputs": [],
   "source": [
    "import torch"
   ]
  },
  {
   "cell_type": "code",
   "execution_count": 5,
   "id": "7544724c-7395-4c2d-a777-58f12bc3ef4f",
   "metadata": {},
   "outputs": [
    {
     "name": "stdout",
     "output_type": "stream",
     "text": [
      "tensor(1)\n"
     ]
    }
   ],
   "source": [
    "#zerod\n",
    "tensor0d = torch.tensor(1)\n",
    "print(tensor0d)\n",
    "\n"
   ]
  },
  {
   "cell_type": "code",
   "execution_count": 7,
   "id": "84966ce4-943a-4b16-b0de-00e6b11840c2",
   "metadata": {},
   "outputs": [
    {
     "name": "stdout",
     "output_type": "stream",
     "text": [
      "tensor([1, 2, 3])\n"
     ]
    }
   ],
   "source": [
    "#1d\n",
    "tensor1d = torch.tensor([1,2,3])\n",
    "print(tensor1d)"
   ]
  },
  {
   "cell_type": "code",
   "execution_count": 19,
   "id": "0774b680-9df9-4feb-9748-04c5f47656c6",
   "metadata": {},
   "outputs": [
    {
     "name": "stdout",
     "output_type": "stream",
     "text": [
      "tensor([[1, 2],\n",
      "        [3, 4],\n",
      "        [5, 6]])\n"
     ]
    }
   ],
   "source": [
    "#2d\n",
    "tensor2d = torch.tensor([[1,2],[3,4], [5,6]])\n",
    "print(tensor2d)"
   ]
  },
  {
   "cell_type": "code",
   "execution_count": 11,
   "id": "38d47358-5210-4e89-be3d-7652dd87ad95",
   "metadata": {},
   "outputs": [
    {
     "name": "stdout",
     "output_type": "stream",
     "text": [
      "tensor(1)\n"
     ]
    }
   ],
   "source": [
    "#3d\n",
    "tensor3d = torch.tensor([ [[1,2],[3,4]],[[5,6],[7,8]] ])\n",
    "print(tensor3d[0,0,0])"
   ]
  },
  {
   "cell_type": "code",
   "execution_count": 15,
   "id": "451c899f-d544-4596-bc83-4e0942800d53",
   "metadata": {},
   "outputs": [
    {
     "name": "stdout",
     "output_type": "stream",
     "text": [
      "torch.int64\n",
      "tensor([1., 2., 3.])\n",
      "torch.float32\n"
     ]
    }
   ],
   "source": [
    "#types\n",
    "print(tensor1d.dtype)\n",
    "floatvec = torch.tensor([1.0,2.0,3.0])\n",
    "print(floatvec)#\n",
    "print(floatvec.dtype)"
   ]
  },
  {
   "cell_type": "code",
   "execution_count": 39,
   "id": "b857b4fb-34ad-4f9f-91be-0c17ec3670d1",
   "metadata": {},
   "outputs": [
    {
     "name": "stdout",
     "output_type": "stream",
     "text": [
      "torch.Size([2, 3])\n",
      "tensor([[1, 2, 3],\n",
      "        [4, 5, 6]])\n",
      "tensor([[1, 2],\n",
      "        [3, 4],\n",
      "        [5, 6]])\n",
      "tensor([[1, 2],\n",
      "        [3, 4],\n",
      "        [5, 6]])\n"
     ]
    }
   ],
   "source": [
    "#other ops\n",
    "tensor2d1 = torch.tensor([[1,2,3],[4,5,6]])\n",
    "print(tensor2d1.shape)\n",
    "print(tensor2d1)\n",
    "print(tensor2d1.reshape(3,2))\n",
    "print(tensor2d1.view(3,2)) #works like reshape"
   ]
  },
  {
   "cell_type": "code",
   "execution_count": 47,
   "id": "5fd2f230-b366-469e-9d0e-1c5631f95dec",
   "metadata": {},
   "outputs": [
    {
     "name": "stdout",
     "output_type": "stream",
     "text": [
      "tensor([[1, 2, 3],\n",
      "        [4, 5, 6]])\n",
      "tensor([[1, 4],\n",
      "        [2, 5],\n",
      "        [3, 6]])\n",
      "tensor([[1, 2, 3],\n",
      "        [4, 5, 6]])\n"
     ]
    }
   ],
   "source": [
    "#vector ops\n",
    "print(tensor2d1)\n",
    "print(tensor2d1.T)\n",
    "print(tensor2d1)"
   ]
  },
  {
   "cell_type": "code",
   "execution_count": 45,
   "id": "f7da9139-b30e-4b7f-9f01-6d694cc6ca66",
   "metadata": {},
   "outputs": [
    {
     "name": "stdout",
     "output_type": "stream",
     "text": [
      "tensor([[1, 2, 3],\n",
      "        [4, 5, 6]])\n"
     ]
    }
   ],
   "source": [
    "print(tensor2d1)"
   ]
  },
  {
   "cell_type": "code",
   "execution_count": 59,
   "id": "51f9580d-0675-43c8-a5f1-22bf08556dcc",
   "metadata": {},
   "outputs": [
    {
     "name": "stdout",
     "output_type": "stream",
     "text": [
      "tensor([[14, 32],\n",
      "        [32, 77]])\n"
     ]
    },
    {
     "ename": "RuntimeError",
     "evalue": "mat1 and mat2 shapes cannot be multiplied (2x3 and 2x3)",
     "output_type": "error",
     "traceback": [
      "\u001b[0;31m---------------------------------------------------------------------------\u001b[0m",
      "\u001b[0;31mRuntimeError\u001b[0m                              Traceback (most recent call last)",
      "Cell \u001b[0;32mIn[59], line 2\u001b[0m\n\u001b[1;32m      1\u001b[0m \u001b[38;5;28mprint\u001b[39m(tensor2d1\u001b[38;5;241m.\u001b[39mmatmul (tensor2d1\u001b[38;5;241m.\u001b[39mT))\n\u001b[0;32m----> 2\u001b[0m \u001b[38;5;28mprint\u001b[39m(tensor2d1 \u001b[38;5;241m@\u001b[39m tensor2d\u001b[38;5;241m.\u001b[39mT)\n",
      "\u001b[0;31mRuntimeError\u001b[0m: mat1 and mat2 shapes cannot be multiplied (2x3 and 2x3)"
     ]
    }
   ],
   "source": [
    "print(tensor2d1.matmul (tensor2d1.T))\n",
    "print(tensor2d1 @ tensor2d.T)"
   ]
  },
  {
   "cell_type": "code",
   "execution_count": null,
   "id": "6ec083b5-90e2-46fc-adc3-b3789edd1296",
   "metadata": {},
   "outputs": [],
   "source": []
  }
 ],
 "metadata": {
  "kernelspec": {
   "display_name": "Python [conda env:base] *",
   "language": "python",
   "name": "conda-base-py"
  },
  "language_info": {
   "codemirror_mode": {
    "name": "ipython",
    "version": 3
   },
   "file_extension": ".py",
   "mimetype": "text/x-python",
   "name": "python",
   "nbconvert_exporter": "python",
   "pygments_lexer": "ipython3",
   "version": "3.12.7"
  }
 },
 "nbformat": 4,
 "nbformat_minor": 5
}
