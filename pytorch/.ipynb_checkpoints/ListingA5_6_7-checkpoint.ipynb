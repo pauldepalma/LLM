{
 "cells": [
  {
   "cell_type": "code",
   "execution_count": 1,
   "id": "22cf1df4-5414-478e-93c5-0fdfa31ddeb2",
   "metadata": {},
   "outputs": [
    {
     "data": {
      "text/plain": [
       "<torch._C.Generator at 0x11af0bdf0>"
      ]
     },
     "execution_count": 1,
     "metadata": {},
     "output_type": "execute_result"
    }
   ],
   "source": [
    "#libraries and globals\n",
    "import torch\n",
    "from torch.utils.data import Dataset\n",
    "from torch.utils.data import DataLoader\n",
    "import torch.nn.functional as F\n",
    "torch.manual_seed(123)\n"
   ]
  },
  {
   "cell_type": "code",
   "execution_count": 2,
   "id": "feaa0366-db0b-480a-b3f0-e84562b44820",
   "metadata": {},
   "outputs": [],
   "source": [
    "#define the neural network (Listing A4)\n",
    "class NeuralNetwork(torch.nn.Module):\n",
    "    def __init__(self, num_inputs, num_outputs):\n",
    "        super().__init__()\n",
    "        self.layers = torch.nn.Sequential(\n",
    "            \n",
    "            #1st hidden layer\n",
    "            torch.nn.Linear(num_inputs, 30),\n",
    "            torch.nn.ReLU(),\n",
    "\n",
    "            #2nd hiddenlayer\n",
    "            torch.nn.Linear(30, 20),\n",
    "            torch.nn.ReLU(),\n",
    "\n",
    "            #output layer\n",
    "            torch.nn.Linear(20,num_outputs),\n",
    "        )\n",
    "\n",
    "    def forward(self,x):\n",
    "        logits = self.layers(x)\n",
    "        return logits\n"
   ]
  },
  {
   "cell_type": "code",
   "execution_count": 3,
   "id": "9c46cccd-e199-45bb-875c-397b6c50a0a9",
   "metadata": {},
   "outputs": [],
   "source": [
    "#Create a dataset (Listing A5)\n",
    "def StoreData():\n",
    "    X_train = torch.tensor([\n",
    "        [-1.2, 3.1],\n",
    "        [-0.9, 2.9],\n",
    "        [-0.5, 2.6],\n",
    "        [2.3, -1.1],\n",
    "        [2.7, -1.5]\n",
    "   ])\n",
    "    y_train = torch.tensor([0,0,0,1,1])\n",
    "\n",
    "    X_test = torch.tensor([\n",
    "        [-0.8, 2.8],\n",
    "        [2.6,-1.6],\n",
    "    ])\n",
    "    y_test = torch.tensor([0,1])\n",
    "\n",
    "    return(X_train, y_train,X_test,y_test)"
   ]
  },
  {
   "cell_type": "code",
   "execution_count": 4,
   "id": "bb9ed944-5453-45f5-a290-b60f56c1da8c",
   "metadata": {},
   "outputs": [],
   "source": [
    "#Define a custom dataset class (Listing A6)\n",
    "class ToyDataset(Dataset):\n",
    "    def __init__(self,X,y):\n",
    "        self.features = X\n",
    "        self.labels = y\n",
    "\n",
    "    def __getitem__(self,index):\n",
    "        one_x = self.features[index]\n",
    "        one_y = self.labels[index]\n",
    "        return one_x, one_y\n",
    "\n",
    "    def __len__(self):\n",
    "        return self.labels.shape[0]\n"
   ]
  },
  {
   "cell_type": "code",
   "execution_count": 5,
   "id": "11bc4771-4477-4612-9a31-d5e43b609ea2",
   "metadata": {},
   "outputs": [],
   "source": [
    "#Initialize Data Loaders (Listing A7)\n",
    "\n",
    "def LoadData(train_ds,test_ds):\n",
    "    train_loader = DataLoader(\n",
    "        dataset=train_ds,\n",
    "        batch_size=2,  #controls the grouping, change to 2 and compare output.\n",
    "        shuffle=True, #controls shuffling of X_train, change to 2 and compare output\n",
    "        num_workers=0,\n",
    "        #drop_last=False\n",
    "    )\n",
    "    test_loader=DataLoader(\n",
    "        dataset=test_ds,\n",
    "        batch_size=1,\n",
    "        shuffle=False,\n",
    "        num_workers=0\n",
    "    )\n",
    "\n",
    "    return(train_loader, test_loader)\n"
   ]
  },
  {
   "cell_type": "code",
   "execution_count": 6,
   "id": "c11802a9-a164-41b7-a452-adeb705f3305",
   "metadata": {},
   "outputs": [],
   "source": [
    "#Training step (Listing A7)\n",
    "\n",
    "def TrainData(train_loader,inp,out):\n",
    "    \n",
    "    model = NeuralNetwork(num_inputs=inp, num_outputs=out) \n",
    "   \n",
    "    optimizer = torch.optim.SGD(\n",
    "        model.parameters(), lr=0.5\n",
    "    ) \n",
    "    num_epochs = 3\n",
    "    for epoch in range(num_epochs): \n",
    "        model.train()\n",
    "    \n",
    "        for batch_idx, (features,labels) in enumerate (train_loader):\n",
    "            print(features)\n",
    "            logits = model(features)\n",
    "            loss = F.cross_entropy(logits,labels)\n",
    "            optimizer.zero_grad()\n",
    "            loss.backward()\n",
    "            optimizer.step()\n",
    "            print(f\"Epoch: {epoch+1:03d}/{num_epochs:03d}\" \n",
    "                f\" | Batch {batch_idx:03d}/{len(train_loader) :03d}\" \n",
    "                f\" | Train Loss: {loss:.2f}\")\n",
    "    return model"
   ]
  },
  {
   "cell_type": "code",
   "execution_count": 7,
   "id": "f3347df8-c6ed-42d4-ad1a-a6c625ad6e87",
   "metadata": {},
   "outputs": [
    {
     "name": "stdout",
     "output_type": "stream",
     "text": [
      "tensor([[-0.5000,  2.6000],\n",
      "        [-0.9000,  2.9000]])\n",
      "Epoch: 001/003 | Batch 000/003 | Train Loss: 0.75\n",
      "tensor([[ 2.3000, -1.1000],\n",
      "        [-1.2000,  3.1000]])\n",
      "Epoch: 001/003 | Batch 001/003 | Train Loss: 0.65\n",
      "tensor([[ 2.7000, -1.5000]])\n",
      "Epoch: 001/003 | Batch 002/003 | Train Loss: 0.42\n",
      "tensor([[ 2.3000, -1.1000],\n",
      "        [ 2.7000, -1.5000]])\n",
      "Epoch: 002/003 | Batch 000/003 | Train Loss: 0.05\n",
      "tensor([[-0.9000,  2.9000],\n",
      "        [-0.5000,  2.6000]])\n",
      "Epoch: 002/003 | Batch 001/003 | Train Loss: 0.13\n",
      "tensor([[-1.2000,  3.1000]])\n",
      "Epoch: 002/003 | Batch 002/003 | Train Loss: 0.00\n",
      "tensor([[-1.2000,  3.1000],\n",
      "        [ 2.7000, -1.5000]])\n",
      "Epoch: 003/003 | Batch 000/003 | Train Loss: 0.01\n",
      "tensor([[-0.9000,  2.9000],\n",
      "        [-0.5000,  2.6000]])\n",
      "Epoch: 003/003 | Batch 001/003 | Train Loss: 0.00\n",
      "tensor([[ 2.3000, -1.1000]])\n",
      "Epoch: 003/003 | Batch 002/003 | Train Loss: 0.02\n"
     ]
    }
   ],
   "source": [
    "#Invoke above functions\n",
    "\n",
    "\n",
    "X_train, y_train,X_test,y_test = StoreData()\n",
    "train_ds = ToyDataset(X_train, y_train)\n",
    "test_ds = ToyDataset(X_test, y_test)\n",
    "\n",
    "#print(len(train_ds))\n",
    "\n",
    "train_loader, test_loader = LoadData(train_ds,test_ds)\n",
    "#for idx, (x,y) in enumerate(train_loader):\n",
    "   #print(f\"Batch {idx+1}:\", x,y)\n",
    "\n",
    "model = TrainData(train_loader,2,2)\n",
    "#model.eval()\n",
    "\n",
    "\n",
    "\n"
   ]
  },
  {
   "cell_type": "code",
   "execution_count": null,
   "id": "f0b5d19f-2459-4a99-a6f2-98629c84ba9d",
   "metadata": {},
   "outputs": [],
   "source": []
  }
 ],
 "metadata": {
  "kernelspec": {
   "display_name": "Python [conda env:base] *",
   "language": "python",
   "name": "conda-base-py"
  },
  "language_info": {
   "codemirror_mode": {
    "name": "ipython",
    "version": 3
   },
   "file_extension": ".py",
   "mimetype": "text/x-python",
   "name": "python",
   "nbconvert_exporter": "python",
   "pygments_lexer": "ipython3",
   "version": "3.12.7"
  }
 },
 "nbformat": 4,
 "nbformat_minor": 5
}
